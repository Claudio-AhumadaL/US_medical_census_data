{
 "cells": [
  {
   "cell_type": "markdown",
   "metadata": {},
   "source": [
    "# U.S. Medical Insurance Costs\n"
   ]
  },
  {
   "cell_type": "code",
   "execution_count": 1,
   "metadata": {},
   "outputs": [
    {
     "name": "stdout",
     "output_type": "stream",
     "text": [
      "['age', 'sex', 'bmi', 'children', 'smoker', 'region', 'charges']\n",
      "['18', 'male', '33.77', '1', 'no', 'southeast', '1725.5523']\n",
      "Total no. of rows: 1338\n"
     ]
    }
   ],
   "source": [
    "import csv\n",
    "\n",
    "headers = []\n",
    "data_rows = []\n",
    "with open(\"insurance.csv\", \"r\") as insurance_csv:\n",
    "    # CSV reader object\n",
    "    \n",
    "        csv_reader = csv.reader(insurance_csv)\n",
    "        \n",
    "    # Headers\n",
    "    \n",
    "        headers = next(csv_reader)\n",
    "        \n",
    "    # Extracting data\n",
    "    \n",
    "        for row in csv_reader:\n",
    "            data_rows.append(row)\n",
    "            \n",
    "    # Get number of rows\n",
    "        print(headers)\n",
    "        print(data_rows[1])\n",
    "        print(f\"Total no. of rows: {csv_reader.line_num - 1}\")"
   ]
  },
  {
   "cell_type": "code",
   "execution_count": 2,
   "metadata": {},
   "outputs": [
    {
     "name": "stdout",
     "output_type": "stream",
     "text": [
      "The average insurance cost is: 13270.42 dollars.\n"
     ]
    }
   ],
   "source": [
    "# Average Cost\n",
    "\n",
    "    # Define average cost function\n",
    "    \n",
    "def get_average_cost(list_of_costs):\n",
    "    total_cost = 0\n",
    "    for i in list_of_costs:\n",
    "        total_cost += float(i)\n",
    "    average_cost = total_cost / len(list_of_costs)\n",
    "    return round(average_cost, 2)\n",
    "\n",
    "    # Obtain a list of the costs\n",
    "    \n",
    "total_insurance_costs = []\n",
    "\n",
    "for i in list(range(0, len(data_rows))):\n",
    "    total_insurance_costs.append(float(data_rows[i][6]))\n",
    "\n",
    "    # Get average cost\n",
    "    \n",
    "average_cost = get_average_cost(total_insurance_costs)\n",
    "print(f\"The average insurance cost is: {average_cost} dollars.\")\n",
    "\n"
   ]
  },
  {
   "cell_type": "code",
   "execution_count": 3,
   "metadata": {},
   "outputs": [
    {
     "name": "stdout",
     "output_type": "stream",
     "text": [
      "The average age is: 39.21 years.\n"
     ]
    }
   ],
   "source": [
    "# Average Age\n",
    "\n",
    "    # Define average age function\n",
    "\n",
    "def get_average_age(list_of_ages):\n",
    "    total_age = 0\n",
    "    for i in list_of_ages:\n",
    "        total_age += float(i)\n",
    "    average_age = total_age / len(list_of_ages)\n",
    "    return round(average_age, 2)\n",
    "\n",
    "    # Obtain a list of the ages\n",
    "    \n",
    "list_of_ages = []\n",
    "\n",
    "for i in list(range(0, len(data_rows))):\n",
    "    list_of_ages.append(data_rows[i][0])\n",
    "\n",
    "     # Get average age\n",
    "    \n",
    "average_age = get_average_age(list_of_ages)\n",
    "print(f\"The average age is: {average_age} years.\")"
   ]
  },
  {
   "cell_type": "code",
   "execution_count": 4,
   "metadata": {},
   "outputs": [
    {
     "name": "stdout",
     "output_type": "stream",
     "text": [
      "The average BMI is: 30.66.\n"
     ]
    }
   ],
   "source": [
    "# Average BMI\n",
    "\n",
    "    # Define average BMI function\n",
    "\n",
    "def get_average_bmi(list_of_bmi):\n",
    "    total_bmi = 0\n",
    "    for i in list_of_bmi:\n",
    "        total_bmi += float(i)\n",
    "    average_bmi = total_bmi / len(list_of_bmi)\n",
    "    return round(average_bmi, 2)\n",
    "\n",
    "    # Obtain a list of the BMI's\n",
    "    \n",
    "list_of_bmi = []\n",
    "\n",
    "for i in list(range(0, len(data_rows))):\n",
    "    list_of_bmi.append(data_rows[i][2])\n",
    "\n",
    "     # Get average BMI\n",
    "    \n",
    "average_bmi = get_average_bmi(list_of_bmi)\n",
    "print(f\"The average BMI is: {average_bmi}.\")"
   ]
  },
  {
   "cell_type": "code",
   "execution_count": 5,
   "metadata": {},
   "outputs": [
    {
     "name": "stdout",
     "output_type": "stream",
     "text": [
      "The average number of children is: 1.09.\n"
     ]
    }
   ],
   "source": [
    "# Average Number of Children\n",
    "\n",
    "    # Define average number of children function\n",
    "\n",
    "def get_average_children(list_of_children):\n",
    "    total_children = 0\n",
    "    for i in list_of_children:\n",
    "        total_children += float(i)\n",
    "    average_children = total_children / len(list_of_children)\n",
    "    return round(average_children, 2)\n",
    "\n",
    "# Obtain a list of the numbers of children\n",
    "    \n",
    "list_of_children = []\n",
    "\n",
    "for i in list(range(0, len(data_rows))):\n",
    "    list_of_children.append(data_rows[i][3])\n",
    "\n",
    " # Get average number of children\n",
    "    \n",
    "average_children = get_average_children(list_of_children)\n",
    "print(f\"The average number of children is: {average_children}.\")"
   ]
  },
  {
   "cell_type": "code",
   "execution_count": 6,
   "metadata": {},
   "outputs": [
    {
     "name": "stdout",
     "output_type": "stream",
     "text": [
      "This insurance file has information about 676 males (50.52% of the sample), and 662 women (49.48% of the sample).\n"
     ]
    }
   ],
   "source": [
    "# Percentage split between male and female\n",
    "\n",
    "    # Define function to count number of males and females\n",
    "    \n",
    "def count_male_and_female(list_of_sexes):\n",
    "    count_of_males = 0\n",
    "    count_of_females = 0\n",
    "    for i in list_of_sexes:\n",
    "        if i == \"male\":\n",
    "            count_of_males += 1\n",
    "        elif i == \"female\":\n",
    "            count_of_females += 1\n",
    "    count_of_sexes = [count_of_males, count_of_females]\n",
    "    return count_of_sexes\n",
    "\n",
    "    # Obtain a list of sexes\n",
    "\n",
    "list_of_sexes = []\n",
    "\n",
    "for i in list(range(0, len(data_rows))):\n",
    "    list_of_sexes.append(data_rows[i][1])\n",
    "    \n",
    "    # Get count of sexes\n",
    "\n",
    "count_of_sexes = count_male_and_female(list_of_sexes)\n",
    "\n",
    "    # Get percentages\n",
    "\n",
    "percentage_of_males = round((count_of_sexes[0] / 1338) * 100, 2)\n",
    "percentage_of_females = round((count_of_sexes[1] / 1338) * 100, 2)\n",
    "print(\"This insurance file has information about {number_of_males} males ({percentage_of_males}% of the sample), and {number_of_females} women ({percentage_of_females}% of the sample).\".format(number_of_males = count_of_sexes[0], percentage_of_males = percentage_of_males, number_of_females = count_of_sexes[1], percentage_of_females = percentage_of_females))\n"
   ]
  },
  {
   "cell_type": "code",
   "execution_count": 7,
   "metadata": {},
   "outputs": [
    {
     "name": "stdout",
     "output_type": "stream",
     "text": [
      "325 people declared to be from the Soutwest Region. 364 people declared to be from the Southeast Region. 325 people declared to be from the Nortwest Region. 324 people declared to be from the Southeast Region.\n",
      "24.29% of people come from the Southwest region, 27.2% of people come from the Southeast region, 24.29% of people come from the Northwest region and 24.22% of people come from the Northeast region.\n"
     ]
    }
   ],
   "source": [
    "# Percentage split by location\n",
    "\n",
    "    # Define function to count how many people come from every different region\n",
    "    \n",
    "def count_people_by_region(list_of_regions):\n",
    "    dict_of_people_by_region = {}\n",
    "    for i in list_of_regions:\n",
    "        if i not in dict_of_people_by_region:\n",
    "            dict_of_people_by_region[i] = 1\n",
    "        else:\n",
    "            dict_of_people_by_region[i] += 1\n",
    "    return dict_of_people_by_region\n",
    "\n",
    "    # Obtain a list of people by region\n",
    "    \n",
    "list_of_regions = []\n",
    "\n",
    "for i in list(range(0, len(data_rows))):\n",
    "    list_of_regions.append(data_rows[i][5])\n",
    "    \n",
    "    # Get count of people by region\n",
    "\n",
    "count_of_people_by_region = count_people_by_region(list_of_regions)\n",
    "print(f\"{count_of_people_by_region['southwest']} people declared to be from the Soutwest Region. {count_of_people_by_region['southeast']} people declared to be from the Southeast Region. {count_of_people_by_region['northwest']} people declared to be from the Nortwest Region. {count_of_people_by_region['northeast']} people declared to be from the Southeast Region.\")\n",
    "\n",
    "    # Get percentages\n",
    "\n",
    "percentage_of_people_in_sw = round((count_of_people_by_region[\"southwest\"] / 1338) * 100, 2)\n",
    "percentage_of_people_in_se = round((count_of_people_by_region[\"southeast\"] / 1338) * 100, 2)\n",
    "percentage_of_people_in_nw = round((count_of_people_by_region[\"northwest\"] / 1338) * 100, 2)\n",
    "percentage_of_people_in_ne = round((count_of_people_by_region[\"northeast\"] / 1338) * 100, 2)\n",
    "print(f\"{percentage_of_people_in_sw}% of people come from the Southwest region, {percentage_of_people_in_se}% of people come from the Southeast region, {percentage_of_people_in_nw}% of people come from the Northwest region and {percentage_of_people_in_ne}% of people come from the Northeast region.\")"
   ]
  },
  {
   "cell_type": "code",
   "execution_count": 8,
   "metadata": {},
   "outputs": [
    {
     "name": "stdout",
     "output_type": "stream",
     "text": [
      "There are 274 smokers and 1064 non-smokers in this list.\n",
      "20.48% of people declare to be smokers while 79.52% of people declare to be non-smokers.\n"
     ]
    }
   ],
   "source": [
    "# Percentage split by smoking status\n",
    "\n",
    "    # Define function to count how many people smoke and how many don't\n",
    "    \n",
    "def count_smokers(list_of_smoke_status):\n",
    "    count_of_smokers = 0\n",
    "    count_of_non_smokers = 0\n",
    "    for i in list_of_smoke_status:\n",
    "        if i == \"yes\":\n",
    "            count_of_smokers += 1\n",
    "        elif i == \"no\":\n",
    "            count_of_non_smokers += 1\n",
    "    count_of_smoke_status = [count_of_smokers, count_of_non_smokers]\n",
    "    return count_of_smoke_status\n",
    "\n",
    "    # Obtain a list of smoker status\n",
    "    \n",
    "list_of_smoke_status = []\n",
    "\n",
    "for i in list(range(0, len(data_rows))):\n",
    "    list_of_smoke_status.append(data_rows[i][4])\n",
    "    \n",
    "    # Get count of smokers and non-smokers\n",
    "\n",
    "count_of_smokers = count_smokers(list_of_smoke_status)\n",
    "print(f\"There are {count_of_smokers[0]} smokers and {count_of_smokers[1]} non-smokers in this list.\")\n",
    "\n",
    "    # Get percentages\n",
    "\n",
    "percentage_of_smokers = round((count_of_smokers[0] / 1338) * 100, 2)\n",
    "percentage_of_non_smokers = round((count_of_smokers[1] / 1338) * 100, 2)\n",
    "print(f\"{percentage_of_smokers}% of people declare to be smokers while {percentage_of_non_smokers}% of people declare to be non-smokers.\")"
   ]
  },
  {
   "cell_type": "code",
   "execution_count": 10,
   "metadata": {},
   "outputs": [
    {
     "name": "stdout",
     "output_type": "stream",
     "text": [
      "The average insurance cost for males is 13956.75 dollars.\n",
      "The average insurance cost for females is 12569.58 dollars.\n",
      "The avg insurance cost for males is 686.33 dollars above average.\n",
      "The avg insurance cost for females is 700.84 dollars below average.\n"
     ]
    }
   ],
   "source": [
    "# Cost by sex\n",
    "\n",
    "    # Here I want to know how much is the insurance cost for each sex.\n",
    "    # I'll separate the cost values in different lists by sex and sum them\n",
    "    \n",
    "    \n",
    "males_list_of_costs = []\n",
    "females_list_of_costs = []\n",
    "\n",
    "for j in list(range(0, len(data_rows))):\n",
    "    if data_rows[j][1] == \"male\":\n",
    "        males_list_of_costs.append(float(data_rows[j][6]))\n",
    "    \n",
    "    else: \n",
    "        females_list_of_costs.append(float(data_rows[j][6]))\n",
    "    \n",
    "cost_males = round(sum(males_list_of_costs) / len(males_list_of_costs), 2)\n",
    "cost_females = round(sum(females_list_of_costs) / len(females_list_of_costs), 2)\n",
    "\n",
    "print(f\"The average insurance cost for males is {cost_males} dollars.\\nThe average insurance cost for females is {cost_females} dollars.\")\n",
    "print(f\"The average insurance cost for males is {round(cost_males - average_cost, 2)} dollars above average.\\nThe average insurance cost for females is {round(average_cost - cost_females, 2)} dollars below average.\")\n"
   ]
  },
  {
   "cell_type": "code",
   "execution_count": 12,
   "metadata": {},
   "outputs": [
    {
     "name": "stdout",
     "output_type": "stream",
     "text": [
      "The average insurance cost for the group age 18 to 29 is 9182.49 dollars.\n",
      "The average insurance cost for the group age 30 to 39 is 11734.53 dollars.\n",
      "The average insurance cost for the group age 40 to 49 is 14589.2 dollars.\n",
      "The average insurance cost for the group age 50 to 59 is 15887.95 dollars.\n",
      "The average insurance cost for the group age 60 to 65 is 19445.9 dollars.\n",
      "The avg insurance cost for the group age 18 to 29 is 4087.93 dollars below average.\n",
      "The avg insurance cost for the group age 30 to 39 is 1535.89 dollars below average.\n",
      "The avg insurance cost for the group age 40 to 49 is 1318.78 dollars above average.\n",
      "The avg insurance cost for the group age 50 to 59 is 2617.53 dollars above average.\n",
      "The avg insurance cost for the group age 60 to 65 is 6175.48 dollars above average.\n"
     ]
    }
   ],
   "source": [
    "# Cost by age\n",
    "\n",
    "    # Here I want to know how much is the insurance cost for each group of age.\n",
    "    # I'll convert the age values to floats so I can work with them\n",
    "    \n",
    "ages_as_floats= []\n",
    "\n",
    "for i in list(range(0, len(list_of_ages))):\n",
    "    ages_as_floats.append(float(list_of_ages[i]))\n",
    "    \n",
    "    # I'll separate the cost values in different lists by age and sum them\n",
    "    \n",
    "ages_18_to_29 = []\n",
    "ages_30_to_39 = []\n",
    "ages_40_to_49 = []\n",
    "ages_50_to_59 = []\n",
    "ages_60_to_65 = []\n",
    "\n",
    "\n",
    "for j in list(range(0, len(data_rows))):\n",
    "    if float(data_rows[j][0]) < 30:\n",
    "        ages_18_to_29.append(float(data_rows[j][6]))\n",
    "    \n",
    "    elif float(data_rows[j][0]) >= 30 and float(data_rows[j][0]) < 39:\n",
    "        ages_30_to_39.append(float(data_rows[j][6]))\n",
    "    \n",
    "    elif float(data_rows[j][0]) >= 40 and float(data_rows[j][0]) < 49:\n",
    "        ages_40_to_49.append(float(data_rows[j][6]))\n",
    "    \n",
    "    elif float(data_rows[j][0])>= 49 and float(data_rows[j][0]) < 59:\n",
    "    \n",
    "        ages_50_to_59.append(float(data_rows[j][6]))\n",
    "    else: \n",
    "        ages_60_to_65.append(float(data_rows[j][6]))\n",
    "    \n",
    "cost_18_to_29 = round(sum(ages_18_to_29) / len(ages_18_to_29), 2)\n",
    "cost_30_to_39 = round(sum(ages_30_to_39) / len(ages_30_to_39), 2)\n",
    "cost_40_to_49 = round(sum(ages_40_to_49) / len(ages_40_to_49), 2)\n",
    "cost_50_to_59 = round(sum(ages_50_to_59) / len(ages_50_to_59), 2)\n",
    "cost_60_to_65 = round(sum(ages_60_to_65) / len(ages_60_to_65), 2)\n",
    "\n",
    "    # Print the costs by ages\n",
    "\n",
    "print(f\"The average insurance cost for the group age 18 to 29 is {cost_18_to_29} dollars.\\nThe average insurance cost for the group age 30 to 39 is {cost_30_to_39} dollars.\\nThe average insurance cost for the group age 40 to 49 is {cost_40_to_49} dollars.\\nThe average insurance cost for the group age 50 to 59 is {cost_50_to_59} dollars.\\nThe average insurance cost for the group age 60 to 65 is {cost_60_to_65} dollars.\")\n",
    "print(f\"The avg insurance cost for the group age 18 to 29 is {round(average_cost - cost_18_to_29, 2)} dollars below average.\\nThe avg insurance cost for the group age 30 to 39 is {round(average_cost - cost_30_to_39, 2)} dollars below average.\\nThe avg insurance cost for the group age 40 to 49 is {round(cost_40_to_49 - average_cost, 2)} dollars above average.\\nThe avg insurance cost for the group age 50 to 59 is {round(cost_50_to_59 - average_cost, 2)} dollars above average.\\nThe avg insurance cost for the group age 60 to 65 is {round(cost_60_to_65 - average_cost, 2)} dollars above average.\")\n"
   ]
  },
  {
   "cell_type": "code",
   "execution_count": 13,
   "metadata": {},
   "outputs": [
    {
     "name": "stdout",
     "output_type": "stream",
     "text": [
      "The average insurance cost for smokers is 32050.23 dollars.\n",
      "The average insurance cost for non-smokers is 8434.27 dollars.\n",
      "The avg insurance cost for smokers is 18779.81 dollars above average.\n",
      "The avg insurance cost for non-smokers is 4836 dollars below average.\n"
     ]
    }
   ],
   "source": [
    "# Cost by smoker status\n",
    "\n",
    "    # Here I want to know how much is the insurance cost for each group of smoker status.\n",
    "    # I'll separate the cost values in different lists by smoker status and sum them\n",
    "    \n",
    "    \n",
    "smoker_list_of_costs = []\n",
    "nonsmoker_list_of_costs = []\n",
    "\n",
    "for j in list(range(0, len(data_rows))):\n",
    "    if data_rows[j][4] == \"yes\":\n",
    "        smoker_list_of_costs.append(float(data_rows[j][6]))\n",
    "    \n",
    "    else: \n",
    "        nonsmoker_list_of_costs.append(float(data_rows[j][6]))\n",
    "    \n",
    "cost_smokers = round(sum(smoker_list_of_costs) / len(smoker_list_of_costs), 2)\n",
    "cost_nonsmokers = round(sum(nonsmoker_list_of_costs) / len(nonsmoker_list_of_costs), 2)\n",
    "\n",
    "print(f\"The average insurance cost for smokers is {cost_smokers} dollars.\\nThe average insurance cost for non-smokers is {cost_nonsmokers} dollars.\")\n",
    "print(f\"The avg insurance cost for smokers is {round(cost_smokers - average_cost, 2)} dollars above average.\\nThe avg insurance cost for non-smokers is {round(average_cost - cost_nonsmokers)} dollars below average.\")\n"
   ]
  },
  {
   "cell_type": "code",
   "execution_count": 14,
   "metadata": {},
   "outputs": [
    {
     "name": "stdout",
     "output_type": "stream",
     "text": [
      "In the smokers subgroup, 74 people have overweight, 74 have class 1 obesity, 50 have class 2 obesity and 21 have class 3 obesity, considered the most severe form.\n"
     ]
    }
   ],
   "source": [
    "# Percentage of smokers that have high bmi.\n",
    "\n",
    "    # First, isolate a list of data of smokers.\n",
    "    \n",
    "list_of_smokers = []\n",
    "\n",
    "for i in list(range(0, len(data_rows))):\n",
    "    if data_rows[i][4] == \"yes\":\n",
    "        list_of_smokers.append(data_rows[i])\n",
    "        \n",
    "    # As BMI between 25.0 and 30.0 is defined as overweight and more than 30 is defined as obesity, I'll use these values.\n",
    "    # Moreso, obesity is divided in class 1 (30 <= BMI < 35), class 2 (35 <= BMI < 40) and class 3(BMI >= 40).\n",
    "\n",
    "overweight_smokers = 0\n",
    "obese_smokers_c1 = 0\n",
    "obese_smokers_c2 = 0\n",
    "obese_smokers_c3 = 0\n",
    "\n",
    "for i in list(range(0, len(list_of_smokers))):\n",
    "    if float(list_of_smokers[i][2]) > 25.0 and float(list_of_smokers[i][2]) < 30.0:\n",
    "        overweight_smokers += 1\n",
    "    elif float(list_of_smokers[i][2]) >= 30.0 and float(list_of_smokers[i][2]) < 35.0:\n",
    "        obese_smokers_c1 += 1\n",
    "    elif float(list_of_smokers[i][2]) >= 35.0 and float(list_of_smokers[i][2]) < 40:\n",
    "        obese_smokers_c2 += 1\n",
    "    elif float(list_of_smokers[i][2]) >= 40.0:\n",
    "        obese_smokers_c3 += 1\n",
    "   \n",
    "print(f\"In the smokers subgroup, {overweight_smokers} people have overweight, {obese_smokers_c1} have class 1 obesity, {obese_smokers_c2} have class 2 obesity and {obese_smokers_c3} have class 3 obesity, considered the most severe form.\")\n"
   ]
  },
  {
   "cell_type": "code",
   "execution_count": 15,
   "metadata": {},
   "outputs": [
    {
     "name": "stdout",
     "output_type": "stream",
     "text": [
      "The average cost for overweight smokers is 22495.87 dollars, which is 9225.45 dollars above the general average cost.\n",
      "The average cost for class 1 obese smokers is 39640.59 dollars, which is 26370.17 dollars above the general average cost.\n",
      "The average cost for class 2 obese smokers is 42753.62 dollars, which is 29483.2 dollars above the general average cost.\n",
      "The average cost for class 3 obese smokers is 45467.79 dollars, which is 32197.37 dollars above the general average cost.\n"
     ]
    }
   ],
   "source": [
    "# Average costs of obese smokers\n",
    "\n",
    "    # Using the previously obtained list of smokers, create lists for each category:\n",
    "    \n",
    "overweight_smokers_list = []\n",
    "class1_obese_smokers_list = []\n",
    "class2_obese_smokers_list = []\n",
    "class3_obese_smokers_list = []\n",
    "\n",
    "for i in list(range(0, len(list_of_smokers))):\n",
    "    if float(list_of_smokers[i][2]) > 25.0 and float(list_of_smokers[i][2]) < 30.0:\n",
    "        overweight_smokers_list.append(list_of_smokers[i])\n",
    "    elif float(list_of_smokers[i][2]) >= 30.0 and float(list_of_smokers[i][2]) < 35.0:\n",
    "        class1_obese_smokers_list.append(list_of_smokers[i])\n",
    "    elif float(list_of_smokers[i][2]) >= 35.0 and float(list_of_smokers[i][2]) < 40:\n",
    "        class2_obese_smokers_list.append(list_of_smokers[i])\n",
    "    elif float(list_of_smokers[i][2]) >= 40.0:\n",
    "        class3_obese_smokers_list.append(list_of_smokers[i])\n",
    "\n",
    "    # Save the costs of each row of each list as floats.\n",
    "    \n",
    "ow_smokers_cost = []\n",
    "c1ob_smokers_cost = []\n",
    "c2ob_smokers_cost = []\n",
    "c3ob_smokers_cost = []\n",
    "\n",
    "for i in list(range(0, len(overweight_smokers_list))):\n",
    "    ow_smokers_cost.append(float(overweight_smokers_list[i][6]))\n",
    "\n",
    "for i in list(range(0, len(class1_obese_smokers_list))):\n",
    "    c1ob_smokers_cost.append(float(class1_obese_smokers_list[i][6]))\n",
    "\n",
    "for i in list(range(0, len(class2_obese_smokers_list))):\n",
    "    c2ob_smokers_cost.append(float(class2_obese_smokers_list[i][6]))\n",
    "\n",
    "for i in list(range(0, len(class3_obese_smokers_list))):\n",
    "    c3ob_smokers_cost.append((class3_obese_smokers_list[i][6]))\n",
    "    \n",
    "    # Get average costs for each subgroup\n",
    "    \n",
    "ow_smokers_avg_cost = get_average_cost(ow_smokers_cost)\n",
    "c1ob_smokers_avg_cost = get_average_cost(c1ob_smokers_cost)\n",
    "c2ob_smokers_avg_cost = get_average_cost(c2ob_smokers_cost)\n",
    "c3ob_smokers_avg_cost = get_average_cost(c3ob_smokers_cost)\n",
    "\n",
    "print(f\"The average cost for overweight smokers is {ow_smokers_avg_cost} dollars, which is {round(ow_smokers_avg_cost - average_cost, 2)} dollars above the general average cost.\\nThe average cost for class 1 obese smokers is {c1ob_smokers_avg_cost} dollars, which is {round(c1ob_smokers_avg_cost - average_cost, 2)} dollars above the general average cost.\\nThe average cost for class 2 obese smokers is {c2ob_smokers_avg_cost} dollars, which is {round(c2ob_smokers_avg_cost - average_cost, 2)} dollars above the general average cost.\\nThe average cost for class 3 obese smokers is {c3ob_smokers_avg_cost} dollars, which is {round(c3ob_smokers_avg_cost - average_cost, 2)} dollars above the general average cost.\")"
   ]
  },
  {
   "cell_type": "code",
   "execution_count": null,
   "metadata": {},
   "outputs": [],
   "source": []
  }
 ],
 "metadata": {
  "kernelspec": {
   "display_name": "Python 3 (ipykernel)",
   "language": "python",
   "name": "python3"
  },
  "language_info": {
   "codemirror_mode": {
    "name": "ipython",
    "version": 3
   },
   "file_extension": ".py",
   "mimetype": "text/x-python",
   "name": "python",
   "nbconvert_exporter": "python",
   "pygments_lexer": "ipython3",
   "version": "3.9.13"
  }
 },
 "nbformat": 4,
 "nbformat_minor": 4
}
